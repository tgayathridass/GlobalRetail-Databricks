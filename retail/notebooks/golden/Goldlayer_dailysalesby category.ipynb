{
 "cells": [
  {
   "cell_type": "code",
   "execution_count": 0,
   "metadata": {
    "application/vnd.databricks.v1+cell": {
     "cellMetadata": {
      "byteLimit": 2048000,
      "rowLimit": 10000
     },
     "inputWidgets": {},
     "nuid": "a5725870-f159-4642-ad63-f39e5ce01e73",
     "showTitle": false,
     "title": ""
    }
   },
   "outputs": [
    {
     "output_type": "execute_result",
     "data": {
      "text/plain": [
       "DataFrame[num_affected_rows: bigint, num_inserted_rows: bigint]"
      ]
     },
     "execution_count": 1,
     "metadata": {},
     "output_type": "execute_result"
    }
   ],
   "source": [
    "spark.sql(\"USE globalretail_gold\")\n",
    "spark.sql(\"\"\"\n",
    "CREATE OR REPLACE TABLE gold_category_sales AS\n",
    "SELECT \n",
    "    p.category AS product_category,\n",
    "    SUM(o.total_amount) AS category_total_sales\n",
    "FROM \n",
    "    globalretail_silver.silver_orders o\n",
    "JOIN \n",
    "    globalretail_silver.silver_products p ON o.product_id = p.product_id\n",
    "GROUP BY \n",
    "    p.category\n",
    "\"\"\")"
   ]
  },
  {
   "cell_type": "code",
   "execution_count": 0,
   "metadata": {
    "application/vnd.databricks.v1+cell": {
     "cellMetadata": {
      "byteLimit": 2048000,
      "implicitDf": true,
      "rowLimit": 10000
     },
     "inputWidgets": {},
     "nuid": "1711b228-6cb9-4207-8a77-fa8fc40d201b",
     "showTitle": false,
     "title": ""
    }
   },
   "outputs": [
    {
     "output_type": "display_data",
     "data": {
      "text/html": [
       "<style scoped>\n",
       "  .table-result-container {\n",
       "    max-height: 300px;\n",
       "    overflow: auto;\n",
       "  }\n",
       "  table, th, td {\n",
       "    border: 1px solid black;\n",
       "    border-collapse: collapse;\n",
       "  }\n",
       "  th, td {\n",
       "    padding: 5px;\n",
       "  }\n",
       "  th {\n",
       "    text-align: left;\n",
       "  }\n",
       "</style><div class='table-result-container'><table class='table-result'><thead style='background-color: white'><tr><th>product_category</th><th>category_total_sales</th></tr></thead><tbody><tr><td>Home</td><td>456502.7899999993</td></tr><tr><td>Food</td><td>441974.5000000002</td></tr><tr><td>Sports</td><td>510337.51999999967</td></tr><tr><td>Electronics</td><td>426449.8000000008</td></tr><tr><td>Clothing</td><td>519243.3299999996</td></tr><tr><td>Automotive</td><td>472281.32999999984</td></tr><tr><td>Books</td><td>429673.76000000053</td></tr><tr><td>Garden</td><td>483605.1099999999</td></tr><tr><td>Beauty</td><td>415598.3400000001</td></tr><tr><td>Toys</td><td>507586.1600000004</td></tr></tbody></table></div>"
      ]
     },
     "metadata": {
      "application/vnd.databricks.v1+output": {
       "addedWidgets": {},
       "aggData": [],
       "aggError": "",
       "aggOverflow": false,
       "aggSchema": [],
       "aggSeriesLimitReached": false,
       "aggType": "",
       "arguments": {},
       "columnCustomDisplayInfos": {},
       "data": [
        [
         "Home",
         456502.7899999993
        ],
        [
         "Food",
         441974.5000000002
        ],
        [
         "Sports",
         510337.51999999967
        ],
        [
         "Electronics",
         426449.8000000008
        ],
        [
         "Clothing",
         519243.3299999996
        ],
        [
         "Automotive",
         472281.32999999984
        ],
        [
         "Books",
         429673.76000000053
        ],
        [
         "Garden",
         483605.1099999999
        ],
        [
         "Beauty",
         415598.3400000001
        ],
        [
         "Toys",
         507586.1600000004
        ]
       ],
       "datasetInfos": [],
       "dbfsResultPath": null,
       "isJsonSchema": true,
       "metadata": {
        "dataframeName": "_sqldf",
        "executionCount": 2
       },
       "overflow": false,
       "plotOptions": {
        "customPlotOptions": {},
        "displayType": "table",
        "pivotAggregation": null,
        "pivotColumns": null,
        "xColumns": null,
        "yColumns": null
       },
       "removedWidgets": [],
       "schema": [
        {
         "metadata": "{}",
         "name": "product_category",
         "type": "\"string\""
        },
        {
         "metadata": "{}",
         "name": "category_total_sales",
         "type": "\"double\""
        }
       ],
       "type": "table"
      }
     },
     "output_type": "display_data"
    }
   ],
   "source": [
    "%sql\n",
    "select * from  gold_category_sales"
   ]
  }
 ],
 "metadata": {
  "application/vnd.databricks.v1+notebook": {
   "dashboards": [],
   "environmentMetadata": null,
   "language": "python",
   "notebookMetadata": {
    "mostRecentlyExecutedCommandWithImplicitDF": {
     "commandId": 432430608335528,
     "dataframes": [
      "_sqldf"
     ]
    },
    "pythonIndentUnit": 4
   },
   "notebookName": "Goldlayer_dailysalesby category",
   "widgets": {}
  }
 },
 "nbformat": 4,
 "nbformat_minor": 0
}
